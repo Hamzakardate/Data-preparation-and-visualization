{
 "cells": [
  {
   "cell_type": "code",
   "execution_count": 30,
   "metadata": {},
   "outputs": [],
   "source": [
    "# Load libraries\n",
    "import numpy\n",
    "import pandas as pd\n",
    "import numpy as np\n",
    "from sklearn.tree import DecisionTreeClassifier \n",
    "from sklearn.ensemble import RandomForestClassifier\n",
    "from sklearn.model_selection import train_test_split \n",
    "from sklearn import metrics \n",
    "import scikitplot as skplt\n",
    "from sklearn import tree\n",
    "import matplotlib.pyplot as plt\n",
    "%matplotlib inline\n",
    "\n",
    "np.random.seed(10)\n",
    "import sklearn.ensemble\n",
    "from sklearn.neighbors import NearestNeighbors\n",
    "import sklearn.svm\n",
    "import sklearn.tree\n",
    "\n",
    "\n",
    "#for visualization\n",
    "import seaborn as sns\n",
    "import matplotlib.pyplot as plt\n",
    "%matplotlib inline\n",
    "\n",
    "#Machine learning\n",
    "import sklearn.metrics as metrics\n",
    "from sklearn.tree import DecisionTreeClassifier\n",
    "from sklearn.model_selection import train_test_split,cross_val_score, GridSearchCV\n",
    "import warnings\n",
    "warnings.filterwarnings('ignore')\n",
    "# identify outliers with interquartile range\n",
    "from numpy.random import seed\n",
    "from numpy.random import randn\n",
    "from numpy import percentile\n",
    "\n",
    "\n",
    "\n",
    "from sklearn.linear_model import LinearRegression"
   ]
  },
  {
   "cell_type": "code",
   "execution_count": 31,
   "metadata": {},
   "outputs": [
    {
     "name": "stdout",
     "output_type": "stream",
     "text": [
      "C:\\Users\\ASUS\\Desktop\\Master\\S2\\Data_mining_2\n"
     ]
    }
   ],
   "source": [
    "cd C:/Users/ASUS/Desktop/Master/S2/Data_mining_2"
   ]
  },
  {
   "cell_type": "code",
   "execution_count": 32,
   "metadata": {},
   "outputs": [
    {
     "data": {
      "text/html": [
       "<div>\n",
       "<style scoped>\n",
       "    .dataframe tbody tr th:only-of-type {\n",
       "        vertical-align: middle;\n",
       "    }\n",
       "\n",
       "    .dataframe tbody tr th {\n",
       "        vertical-align: top;\n",
       "    }\n",
       "\n",
       "    .dataframe thead th {\n",
       "        text-align: right;\n",
       "    }\n",
       "</style>\n",
       "<table border=\"1\" class=\"dataframe\">\n",
       "  <thead>\n",
       "    <tr style=\"text-align: right;\">\n",
       "      <th></th>\n",
       "      <th>age</th>\n",
       "      <th>job</th>\n",
       "      <th>marital</th>\n",
       "      <th>education</th>\n",
       "      <th>default</th>\n",
       "      <th>housing</th>\n",
       "      <th>loan</th>\n",
       "      <th>contact</th>\n",
       "      <th>day</th>\n",
       "      <th>month</th>\n",
       "      <th>duration</th>\n",
       "      <th>campaign</th>\n",
       "      <th>previous</th>\n",
       "      <th>poutcome</th>\n",
       "      <th>y</th>\n",
       "    </tr>\n",
       "  </thead>\n",
       "  <tbody>\n",
       "    <tr>\n",
       "      <th>0</th>\n",
       "      <td>30.0</td>\n",
       "      <td>unemployed</td>\n",
       "      <td>married</td>\n",
       "      <td>primary</td>\n",
       "      <td>no</td>\n",
       "      <td>no</td>\n",
       "      <td>no</td>\n",
       "      <td>cellular</td>\n",
       "      <td>19</td>\n",
       "      <td>oct</td>\n",
       "      <td>79</td>\n",
       "      <td>1</td>\n",
       "      <td>0</td>\n",
       "      <td>unknown</td>\n",
       "      <td>no</td>\n",
       "    </tr>\n",
       "    <tr>\n",
       "      <th>1</th>\n",
       "      <td>33.0</td>\n",
       "      <td>services</td>\n",
       "      <td>married</td>\n",
       "      <td>secondary</td>\n",
       "      <td>no</td>\n",
       "      <td>yes</td>\n",
       "      <td>yes</td>\n",
       "      <td>cellular</td>\n",
       "      <td>11</td>\n",
       "      <td>may</td>\n",
       "      <td>220</td>\n",
       "      <td>1</td>\n",
       "      <td>4</td>\n",
       "      <td>failure</td>\n",
       "      <td>no</td>\n",
       "    </tr>\n",
       "    <tr>\n",
       "      <th>2</th>\n",
       "      <td>35.0</td>\n",
       "      <td>management</td>\n",
       "      <td>single</td>\n",
       "      <td>tertiary</td>\n",
       "      <td>no</td>\n",
       "      <td>yes</td>\n",
       "      <td>no</td>\n",
       "      <td>cellular</td>\n",
       "      <td>16</td>\n",
       "      <td>apr</td>\n",
       "      <td>185</td>\n",
       "      <td>1</td>\n",
       "      <td>1</td>\n",
       "      <td>failure</td>\n",
       "      <td>no</td>\n",
       "    </tr>\n",
       "    <tr>\n",
       "      <th>3</th>\n",
       "      <td>30.0</td>\n",
       "      <td>management</td>\n",
       "      <td>married</td>\n",
       "      <td>tertiary</td>\n",
       "      <td>no</td>\n",
       "      <td>yes</td>\n",
       "      <td>yes</td>\n",
       "      <td>unknown</td>\n",
       "      <td>3</td>\n",
       "      <td>jun</td>\n",
       "      <td>199</td>\n",
       "      <td>4</td>\n",
       "      <td>0</td>\n",
       "      <td>unknown</td>\n",
       "      <td>no</td>\n",
       "    </tr>\n",
       "    <tr>\n",
       "      <th>4</th>\n",
       "      <td>59.0</td>\n",
       "      <td>blue-collar</td>\n",
       "      <td>married</td>\n",
       "      <td>secondary</td>\n",
       "      <td>no</td>\n",
       "      <td>yes</td>\n",
       "      <td>no</td>\n",
       "      <td>unknown</td>\n",
       "      <td>5</td>\n",
       "      <td>may</td>\n",
       "      <td>226</td>\n",
       "      <td>1</td>\n",
       "      <td>0</td>\n",
       "      <td>unknown</td>\n",
       "      <td>no</td>\n",
       "    </tr>\n",
       "  </tbody>\n",
       "</table>\n",
       "</div>"
      ],
      "text/plain": [
       "    age          job  marital  education default housing loan   contact  day  \\\n",
       "0  30.0   unemployed  married    primary      no      no   no  cellular   19   \n",
       "1  33.0     services  married  secondary      no     yes  yes  cellular   11   \n",
       "2  35.0   management   single   tertiary      no     yes   no  cellular   16   \n",
       "3  30.0   management  married   tertiary      no     yes  yes   unknown    3   \n",
       "4  59.0  blue-collar  married  secondary      no     yes   no   unknown    5   \n",
       "\n",
       "  month  duration  campaign  previous poutcome   y  \n",
       "0   oct        79         1         0  unknown  no  \n",
       "1   may       220         1         4  failure  no  \n",
       "2   apr       185         1         1  failure  no  \n",
       "3   jun       199         4         0  unknown  no  \n",
       "4   may       226         1         0  unknown  no  "
      ]
     },
     "execution_count": 32,
     "metadata": {},
     "output_type": "execute_result"
    }
   ],
   "source": [
    "# reading the data file\n",
    "iris_df = pd.read_csv('database/bank2.csv',sep=';')\n",
    "# print the first 5 rows of the data\n",
    "iris_df.head()"
   ]
  },
  {
   "cell_type": "code",
   "execution_count": 33,
   "metadata": {},
   "outputs": [
    {
     "name": "stdout",
     "output_type": "stream",
     "text": [
      "<class 'pandas.core.frame.DataFrame'>\n",
      "RangeIndex: 4521 entries, 0 to 4520\n",
      "Data columns (total 15 columns):\n",
      " #   Column     Non-Null Count  Dtype  \n",
      "---  ------     --------------  -----  \n",
      " 0   age        4515 non-null   float64\n",
      " 1   job        4521 non-null   object \n",
      " 2   marital    4521 non-null   object \n",
      " 3   education  4514 non-null   object \n",
      " 4   default    4521 non-null   object \n",
      " 5   housing    4521 non-null   object \n",
      " 6   loan       4521 non-null   object \n",
      " 7   contact    4521 non-null   object \n",
      " 8   day        4521 non-null   int64  \n",
      " 9   month      4521 non-null   object \n",
      " 10  duration   4521 non-null   int64  \n",
      " 11  campaign   4521 non-null   int64  \n",
      " 12  previous   4521 non-null   int64  \n",
      " 13  poutcome   4521 non-null   object \n",
      " 14  y          4521 non-null   object \n",
      "dtypes: float64(1), int64(4), object(10)\n",
      "memory usage: 529.9+ KB\n"
     ]
    }
   ],
   "source": [
    "iris_df.info()"
   ]
  },
  {
   "cell_type": "code",
   "execution_count": 34,
   "metadata": {},
   "outputs": [
    {
     "data": {
      "text/plain": [
       "age          6\n",
       "job          0\n",
       "marital      0\n",
       "education    7\n",
       "default      0\n",
       "housing      0\n",
       "loan         0\n",
       "contact      0\n",
       "day          0\n",
       "month        0\n",
       "duration     0\n",
       "campaign     0\n",
       "previous     0\n",
       "poutcome     0\n",
       "y            0\n",
       "dtype: int64"
      ]
     },
     "execution_count": 34,
     "metadata": {},
     "output_type": "execute_result"
    }
   ],
   "source": [
    "iris_df.isnull().sum()"
   ]
  },
  {
   "cell_type": "markdown",
   "metadata": {},
   "source": [
    "# Q1"
   ]
  },
  {
   "cell_type": "markdown",
   "metadata": {},
   "source": [
    "# Age"
   ]
  },
  {
   "cell_type": "code",
   "execution_count": 35,
   "metadata": {},
   "outputs": [
    {
     "name": "stdout",
     "output_type": "stream",
     "text": [
      "Missing: 6\n",
      "Percentiles: 25th=nan, 75th=nan, IQR=nan\n",
      "Identified outliers(Mismatched): 0\n",
      "Non-outlier observations(valid): 0\n",
      "Unique: 68\n"
     ]
    }
   ],
   "source": [
    "print('Missing: %d' %iris_df[\"age\"].isnull().sum())\n",
    "# seed the random number generator\n",
    "seed(1)\n",
    "# generate univariate observations\n",
    "data = iris_df.iloc[:,0]\n",
    "# calculate interquartile range\n",
    "q25, q75 = percentile(data, 25), percentile(data, 75)\n",
    "iqr = q75 - q25\n",
    "print('Percentiles: 25th=%.3f, 75th=%.3f, IQR=%.3f' % (q25, q75, iqr))\n",
    "# calculate the outlier cutoff\n",
    "cut_off = iqr * 1.5\n",
    "lower, upper = q25 - cut_off, q75 + cut_off\n",
    "# identify outliers\n",
    "outliers = [x for x in data if x < lower or x > upper]\n",
    "print('Identified outliers(Mismatched): %d' % len(outliers))\n",
    "# remove outliers\n",
    "outliers_removed = [x for x in data if x >= lower and x <= upper]\n",
    "print('Non-outlier observations(valid): %d' % len(outliers_removed))\n",
    "print('Unique: %d' %len(iris_df[\"age\"].unique()))"
   ]
  },
  {
   "cell_type": "markdown",
   "metadata": {},
   "source": [
    "# job"
   ]
  },
  {
   "cell_type": "code",
   "execution_count": 36,
   "metadata": {},
   "outputs": [
    {
     "name": "stdout",
     "output_type": "stream",
     "text": [
      "Missing: 0\n",
      "Mismatched: 0\n",
      "valid: 4521\n",
      "Unique: 12\n"
     ]
    }
   ],
   "source": [
    "print('Missing: %d' %iris_df[\"job\"].isnull().sum())\n",
    "print('Mismatched: 0')\n",
    "print('valid: %d'% len(iris_df[\"job\"]))\n",
    "print('Unique: %d' %len(iris_df[\"job\"].unique()))"
   ]
  },
  {
   "cell_type": "markdown",
   "metadata": {},
   "source": [
    "# marital"
   ]
  },
  {
   "cell_type": "code",
   "execution_count": 41,
   "metadata": {},
   "outputs": [
    {
     "name": "stdout",
     "output_type": "stream",
     "text": [
      "Missing: 0\n",
      "Mismatched: 0\n",
      "valid: 4521\n",
      "Unique: 4\n"
     ]
    }
   ],
   "source": [
    "\n",
    "iris_df.head()\n",
    "print('Missing: %d' %iris_df[\"marital\"].isnull().sum())\n",
    "print('Mismatched: 0')\n",
    "print('valid: %d'% len(iris_df[\"marital\"]))\n",
    "print('Unique: %d' %len(iris_df[\"marital\"].unique()))\n"
   ]
  },
  {
   "cell_type": "markdown",
   "metadata": {},
   "source": [
    "# education"
   ]
  },
  {
   "cell_type": "code",
   "execution_count": 42,
   "metadata": {},
   "outputs": [
    {
     "name": "stdout",
     "output_type": "stream",
     "text": [
      "Missing: 7\n",
      "Mismatched: 0\n",
      "valid: 4521\n",
      "Unique: 5\n"
     ]
    }
   ],
   "source": [
    "iris_df.head()\n",
    "print('Missing: %d' %iris_df[\"education\"].isnull().sum())\n",
    "print('Mismatched: 0')\n",
    "print('valid: %d'% len(iris_df[\"education\"]))\n",
    "print('Unique: %d' %len(iris_df[\"education\"].unique()))"
   ]
  },
  {
   "cell_type": "markdown",
   "metadata": {},
   "source": [
    "# default"
   ]
  },
  {
   "cell_type": "code",
   "execution_count": 43,
   "metadata": {},
   "outputs": [
    {
     "name": "stdout",
     "output_type": "stream",
     "text": [
      "Missing: 0\n",
      "Mismatched: 0\n",
      "valid: 4521\n",
      "Unique: 2\n"
     ]
    }
   ],
   "source": [
    "iris_df.head()\n",
    "print('Missing: %d' %iris_df[\"default\"].isnull().sum())\n",
    "print('Mismatched: 0')\n",
    "print('valid: %d'% len(iris_df[\"default\"]))\n",
    "print('Unique: %d' %len(iris_df[\"default\"].unique()))"
   ]
  },
  {
   "cell_type": "markdown",
   "metadata": {},
   "source": [
    "# housing"
   ]
  },
  {
   "cell_type": "code",
   "execution_count": 44,
   "metadata": {},
   "outputs": [
    {
     "name": "stdout",
     "output_type": "stream",
     "text": [
      "Missing: 0\n",
      "Mismatched: 0\n",
      "valid: 4521\n",
      "Unique: 2\n"
     ]
    }
   ],
   "source": [
    "iris_df.head()\n",
    "print('Missing: %d' %iris_df[\"housing\"].isnull().sum())\n",
    "print('Mismatched: 0')\n",
    "print('valid: %d'% len(iris_df[\"housing\"]))\n",
    "print('Unique: %d' %len(iris_df[\"housing\"].unique()))"
   ]
  },
  {
   "cell_type": "markdown",
   "metadata": {},
   "source": [
    "# loan"
   ]
  },
  {
   "cell_type": "code",
   "execution_count": 45,
   "metadata": {},
   "outputs": [
    {
     "name": "stdout",
     "output_type": "stream",
     "text": [
      "Missing: 0\n",
      "Mismatched: 0\n",
      "valid: 4521\n",
      "Unique: 2\n"
     ]
    }
   ],
   "source": [
    "\n",
    "print('Missing: %d' %iris_df[\"loan\"].isnull().sum())\n",
    "print('Mismatched: 0')\n",
    "print('valid: %d'% len(iris_df[\"loan\"]))\n",
    "print('Unique: %d' %len(iris_df[\"loan\"].unique()))"
   ]
  },
  {
   "cell_type": "markdown",
   "metadata": {},
   "source": [
    "# contact"
   ]
  },
  {
   "cell_type": "code",
   "execution_count": 46,
   "metadata": {},
   "outputs": [
    {
     "name": "stdout",
     "output_type": "stream",
     "text": [
      "Missing: 0\n",
      "Mismatched: 0\n",
      "valid: 4521\n",
      "Unique: 3\n"
     ]
    }
   ],
   "source": [
    "print('Missing: %d' %iris_df[\"contact\"].isnull().sum())\n",
    "print('Mismatched: 0')\n",
    "print('valid: %d'% len(iris_df[\"contact\"]))\n",
    "print('Unique: %d' %len(iris_df[\"contact\"].unique()))"
   ]
  },
  {
   "cell_type": "markdown",
   "metadata": {},
   "source": [
    "# day"
   ]
  },
  {
   "cell_type": "code",
   "execution_count": 48,
   "metadata": {},
   "outputs": [
    {
     "name": "stdout",
     "output_type": "stream",
     "text": [
      "Missing: 0\n",
      "Percentiles: 25th=9.000, 75th=21.000, IQR=12.000\n",
      "Identified outliers(Mismatched): 0\n",
      "Non-outlier observations(valid): 4521\n",
      "Unique: 31\n"
     ]
    }
   ],
   "source": [
    "print('Missing: %d' %iris_df[\"day\"].isnull().sum())\n",
    "# seed the random number generator\n",
    "seed(1)\n",
    "# generate univariate observations\n",
    "data = iris_df.iloc[:,8]\n",
    "# calculate interquartile range\n",
    "q25, q75 = percentile(data, 25), percentile(data, 75)\n",
    "iqr = q75 - q25\n",
    "print('Percentiles: 25th=%.3f, 75th=%.3f, IQR=%.3f' % (q25, q75, iqr))\n",
    "# calculate the outlier cutoff\n",
    "cut_off = iqr * 1.5\n",
    "lower, upper = q25 - cut_off, q75 + cut_off\n",
    "# identify outliers\n",
    "outliers = [x for x in data if x < lower or x > upper]\n",
    "print('Identified outliers(Mismatched): %d' % len(outliers))\n",
    "# remove outliers\n",
    "outliers_removed = [x for x in data if x >= lower and x <= upper]\n",
    "print('Non-outlier observations(valid): %d' % len(outliers_removed))\n",
    "print('Unique: %d' %len(iris_df[\"day\"].unique()))"
   ]
  },
  {
   "cell_type": "markdown",
   "metadata": {},
   "source": [
    "# month"
   ]
  },
  {
   "cell_type": "code",
   "execution_count": 47,
   "metadata": {},
   "outputs": [
    {
     "name": "stdout",
     "output_type": "stream",
     "text": [
      "Missing: 0\n",
      "Mismatched: 0\n",
      "valid: 4521\n",
      "Unique: 12\n"
     ]
    }
   ],
   "source": [
    "print('Missing: %d' %iris_df[\"month\"].isnull().sum())\n",
    "print('Mismatched: 0')\n",
    "print('valid: %d'% len(iris_df[\"month\"]))\n",
    "print('Unique: %d' %len(iris_df[\"month\"].unique()))"
   ]
  },
  {
   "cell_type": "markdown",
   "metadata": {},
   "source": [
    "# duration"
   ]
  },
  {
   "cell_type": "code",
   "execution_count": 49,
   "metadata": {},
   "outputs": [
    {
     "name": "stdout",
     "output_type": "stream",
     "text": [
      "Missing: 0\n",
      "Percentiles: 25th=104.000, 75th=329.000, IQR=225.000\n",
      "Identified outliers(Mismatched): 330\n",
      "Non-outlier observations(valid): 4191\n",
      "Unique: 875\n"
     ]
    }
   ],
   "source": [
    "print('Missing: %d' %iris_df[\"duration\"].isnull().sum())\n",
    "# seed the random number generator\n",
    "seed(1)\n",
    "# generate univariate observations\n",
    "data = iris_df.iloc[:,10]\n",
    "# calculate interquartile range\n",
    "q25, q75 = percentile(data, 25), percentile(data, 75)\n",
    "iqr = q75 - q25\n",
    "print('Percentiles: 25th=%.3f, 75th=%.3f, IQR=%.3f' % (q25, q75, iqr))\n",
    "# calculate the outlier cutoff\n",
    "cut_off = iqr * 1.5\n",
    "lower, upper = q25 - cut_off, q75 + cut_off\n",
    "# identify outliers\n",
    "outliers = [x for x in data if x < lower or x > upper]\n",
    "print('Identified outliers(Mismatched): %d' % len(outliers))\n",
    "# remove outliers\n",
    "outliers_removed = [x for x in data if x >= lower and x <= upper]\n",
    "print('Non-outlier observations(valid): %d' % len(outliers_removed))\n",
    "print('Unique: %d' %len(iris_df[\"duration\"].unique()))"
   ]
  },
  {
   "cell_type": "markdown",
   "metadata": {},
   "source": [
    "# campaign"
   ]
  },
  {
   "cell_type": "code",
   "execution_count": 50,
   "metadata": {},
   "outputs": [
    {
     "name": "stdout",
     "output_type": "stream",
     "text": [
      "Missing: 0\n",
      "Percentiles: 25th=1.000, 75th=3.000, IQR=2.000\n",
      "Identified outliers(Mismatched): 318\n",
      "Non-outlier observations(valid): 4203\n",
      "Unique: 24\n"
     ]
    }
   ],
   "source": [
    "print('Missing: %d' %iris_df[\"previous\"].isnull().sum())\n",
    "# seed the random number generator\n",
    "seed(1)\n",
    "# generate univariate observations\n",
    "data = iris_df.iloc[:,11]\n",
    "# calculate interquartile range\n",
    "q25, q75 = percentile(data, 25), percentile(data, 75)\n",
    "iqr = q75 - q25\n",
    "print('Percentiles: 25th=%.3f, 75th=%.3f, IQR=%.3f' % (q25, q75, iqr))\n",
    "# calculate the outlier cutoff\n",
    "cut_off = iqr * 1.5\n",
    "lower, upper = q25 - cut_off, q75 + cut_off\n",
    "# identify outliers\n",
    "outliers = [x for x in data if x < lower or x > upper]\n",
    "print('Identified outliers(Mismatched): %d' % len(outliers))\n",
    "# remove outliers\n",
    "outliers_removed = [x for x in data if x >= lower and x <= upper]\n",
    "print('Non-outlier observations(valid): %d' % len(outliers_removed))\n",
    "print('Unique: %d' %len(iris_df[\"previous\"].unique()))"
   ]
  },
  {
   "cell_type": "markdown",
   "metadata": {},
   "source": [
    "# previous"
   ]
  },
  {
   "cell_type": "code",
   "execution_count": 51,
   "metadata": {},
   "outputs": [
    {
     "name": "stdout",
     "output_type": "stream",
     "text": [
      "Missing: 0\n",
      "Percentiles: 25th=0.000, 75th=0.000, IQR=0.000\n",
      "Identified outliers(Mismatched): 816\n",
      "Non-outlier observations(valid): 3705\n",
      "Unique: 24\n"
     ]
    }
   ],
   "source": [
    "print('Missing: %d' %iris_df[\"previous\"].isnull().sum())\n",
    "# seed the random number generator\n",
    "seed(1)\n",
    "# generate univariate observations\n",
    "data = iris_df.iloc[:,12]\n",
    "# calculate interquartile range\n",
    "q25, q75 = percentile(data, 25), percentile(data, 75)\n",
    "iqr = q75 - q25\n",
    "print('Percentiles: 25th=%.3f, 75th=%.3f, IQR=%.3f' % (q25, q75, iqr))\n",
    "# calculate the outlier cutoff\n",
    "cut_off = iqr * 1.5\n",
    "lower, upper = q25 - cut_off, q75 + cut_off\n",
    "# identify outliers\n",
    "outliers = [x for x in data if x < lower or x > upper]\n",
    "print('Identified outliers(Mismatched): %d' % len(outliers))\n",
    "# remove outliers\n",
    "outliers_removed = [x for x in data if x >= lower and x <= upper]\n",
    "print('Non-outlier observations(valid): %d' % len(outliers_removed))\n",
    "print('Unique: %d' %len(iris_df[\"previous\"].unique()))"
   ]
  },
  {
   "cell_type": "markdown",
   "metadata": {},
   "source": [
    "# poutcome"
   ]
  },
  {
   "cell_type": "code",
   "execution_count": 52,
   "metadata": {},
   "outputs": [
    {
     "name": "stdout",
     "output_type": "stream",
     "text": [
      "Missing: 0\n",
      "Mismatched: 0\n",
      "valid: 4521\n",
      "Unique: 4\n"
     ]
    }
   ],
   "source": [
    "print('Missing: %d' %iris_df[\"poutcome\"].isnull().sum())\n",
    "print('Mismatched: 0')\n",
    "print('valid: %d'% len(iris_df[\"poutcome\"]))\n",
    "print('Unique: %d' %len(iris_df[\"poutcome\"].unique()))"
   ]
  },
  {
   "cell_type": "markdown",
   "metadata": {},
   "source": [
    "# y"
   ]
  },
  {
   "cell_type": "code",
   "execution_count": 55,
   "metadata": {},
   "outputs": [
    {
     "name": "stdout",
     "output_type": "stream",
     "text": [
      "Missing: 0\n",
      "Mismatched: 0\n",
      "valid: 4521\n",
      "Unique: 2\n"
     ]
    }
   ],
   "source": [
    "print('Missing: %d' %iris_df[\"y\"].isnull().sum())\n",
    "print('Mismatched: 0')\n",
    "print('valid: %d'% len(iris_df[\"y\"]))\n",
    "print('Unique: %d' %len(iris_df[\"y\"].unique()))"
   ]
  }
 ],
 "metadata": {
  "kernelspec": {
   "display_name": "Python 3",
   "language": "python",
   "name": "python3"
  },
  "language_info": {
   "codemirror_mode": {
    "name": "ipython",
    "version": 3
   },
   "file_extension": ".py",
   "mimetype": "text/x-python",
   "name": "python",
   "nbconvert_exporter": "python",
   "pygments_lexer": "ipython3",
   "version": "3.8.5"
  }
 },
 "nbformat": 4,
 "nbformat_minor": 4
}
