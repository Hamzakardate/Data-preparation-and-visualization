{
 "cells": [
  {
   "cell_type": "code",
   "execution_count": 13,
   "metadata": {},
   "outputs": [],
   "source": [
    "import pandas as pd\n",
    "import numpy as np\n",
    "import matplotlib.pyplot as plt\n",
    "import seaborn as sb\n",
    "# text/file processing libraries\n",
    "import string\n",
    "import re\n",
    "import sys\n",
    "from nltk.corpus import stopwords\n",
    "#from wordcloud import STOPWORDS\n",
    "from itertools import chain\n",
    "# warnings\n",
    "import warnings\n",
    "import statsmodels as sm\n",
    "# for Box-Cox Transformation\n",
    "from scipy import stats\n",
    "\n",
    "# for min_max scaling\n",
    "from mlxtend.preprocessing import minmax_scaling\n",
    "warnings.filterwarnings('ignore')\n",
    "# set seed for reproducibility\n",
    "np.random.seed(0)\n",
    "\n",
    "from imblearn.over_sampling import RandomOverSampler\n",
    "from imblearn.under_sampling import RandomUnderSampler\n",
    "from sklearn.model_selection import train_test_split"
   ]
  },
  {
   "cell_type": "code",
   "execution_count": 6,
   "metadata": {},
   "outputs": [],
   "source": [
    "df = pd.read_excel(\"E:/DQ/2021/dataset/client_bank.xlsx\")\n",
    "np.random.seed(0)"
   ]
  },
  {
   "cell_type": "code",
   "execution_count": 7,
   "metadata": {},
   "outputs": [
    {
     "name": "stdout",
     "output_type": "stream",
     "text": [
      "<class 'pandas.core.frame.DataFrame'>\n",
      "RangeIndex: 2000 entries, 0 to 1999\n",
      "Data columns (total 31 columns):\n",
      " #   Column                          Non-Null Count  Dtype  \n",
      "---  ------                          --------------  -----  \n",
      " 0   Age                             2000 non-null   int64  \n",
      " 1   Months_Customer                 2000 non-null   int64  \n",
      " 2   Number_Products                 2000 non-null   int64  \n",
      " 3   RFM_Score                       693 non-null    float64\n",
      " 4   Average_Balance_Feed_Index      695 non-null    float64\n",
      " 5   Number_Transactions             2000 non-null   int64  \n",
      " 6   Personal_Ratio                  2000 non-null   int64  \n",
      " 7   Months_Current_Account          2000 non-null   int64  \n",
      " 8   Number_Loan_Accounts            2000 non-null   int64  \n",
      " 9   Customer_ID                     2000 non-null   int64  \n",
      " 10  Has_Bad_Payment_Record          2000 non-null   int64  \n",
      " 11  Members_Within_Household        2000 non-null   int64  \n",
      " 12  Number_Contacts                 2000 non-null   int64  \n",
      " 13  Gender                          2000 non-null   object \n",
      " 14  Marital_Status                  2000 non-null   object \n",
      " 15  Age_Youngest_Child              2000 non-null   int64  \n",
      " 16  Number_Workers_Household        2000 non-null   int64  \n",
      " 17  Percentage_Workers              2000 non-null   int64  \n",
      " 18  Household_Ratio                 2000 non-null   int64  \n",
      " 19  Income                          2000 non-null   int64  \n",
      " 20  Weeks_Since_Last_Offer          2000 non-null   int64  \n",
      " 21  Homeowner                       2000 non-null   object \n",
      " 22  Accepted_Personal_Loan          1916 non-null   object \n",
      " 23  Accepted_Retention              2000 non-null   object \n",
      " 24  Accepted_Home_Equity_Loan       2000 non-null   object \n",
      " 25  Annual_value                    1475 non-null   float64\n",
      " 26  Interested_Personal_Loan        2000 non-null   object \n",
      " 27  Interested_in_Retention         2000 non-null   object \n",
      " 28  Interested_in_Home_Equity_Loan  2000 non-null   object \n",
      " 29  Interested_in_Credit_Card       2000 non-null   object \n",
      " 30  Accepted_Credit_Card            2000 non-null   object \n",
      "dtypes: float64(3), int64(17), object(11)\n",
      "memory usage: 484.5+ KB\n"
     ]
    }
   ],
   "source": [
    "df.info()"
   ]
  },
  {
   "cell_type": "code",
   "execution_count": 8,
   "metadata": {},
   "outputs": [
    {
     "data": {
      "text/html": [
       "<div>\n",
       "<style scoped>\n",
       "    .dataframe tbody tr th:only-of-type {\n",
       "        vertical-align: middle;\n",
       "    }\n",
       "\n",
       "    .dataframe tbody tr th {\n",
       "        vertical-align: top;\n",
       "    }\n",
       "\n",
       "    .dataframe thead th {\n",
       "        text-align: right;\n",
       "    }\n",
       "</style>\n",
       "<table border=\"1\" class=\"dataframe\">\n",
       "  <thead>\n",
       "    <tr style=\"text-align: right;\">\n",
       "      <th></th>\n",
       "      <th>Age</th>\n",
       "      <th>Months_Customer</th>\n",
       "      <th>Number_Products</th>\n",
       "      <th>RFM_Score</th>\n",
       "      <th>Average_Balance_Feed_Index</th>\n",
       "      <th>Number_Transactions</th>\n",
       "      <th>Personal_Ratio</th>\n",
       "      <th>Months_Current_Account</th>\n",
       "      <th>Number_Loan_Accounts</th>\n",
       "      <th>Customer_ID</th>\n",
       "      <th>...</th>\n",
       "      <th>Homeowner</th>\n",
       "      <th>Accepted_Personal_Loan</th>\n",
       "      <th>Accepted_Retention</th>\n",
       "      <th>Accepted_Home_Equity_Loan</th>\n",
       "      <th>Annual_value</th>\n",
       "      <th>Interested_Personal_Loan</th>\n",
       "      <th>Interested_in_Retention</th>\n",
       "      <th>Interested_in_Home_Equity_Loan</th>\n",
       "      <th>Interested_in_Credit_Card</th>\n",
       "      <th>Accepted_Credit_Card</th>\n",
       "    </tr>\n",
       "  </thead>\n",
       "  <tbody>\n",
       "    <tr>\n",
       "      <th>0</th>\n",
       "      <td>40</td>\n",
       "      <td>24</td>\n",
       "      <td>3</td>\n",
       "      <td>9.82899</td>\n",
       "      <td>229.0</td>\n",
       "      <td>2</td>\n",
       "      <td>40</td>\n",
       "      <td>13</td>\n",
       "      <td>0</td>\n",
       "      <td>5409</td>\n",
       "      <td>...</td>\n",
       "      <td>F</td>\n",
       "      <td>F</td>\n",
       "      <td>F</td>\n",
       "      <td>F</td>\n",
       "      <td>9.0</td>\n",
       "      <td>F</td>\n",
       "      <td>F</td>\n",
       "      <td>F</td>\n",
       "      <td>F</td>\n",
       "      <td>F</td>\n",
       "    </tr>\n",
       "    <tr>\n",
       "      <th>1</th>\n",
       "      <td>47</td>\n",
       "      <td>12</td>\n",
       "      <td>2</td>\n",
       "      <td>11.80799</td>\n",
       "      <td>8.0</td>\n",
       "      <td>1</td>\n",
       "      <td>47</td>\n",
       "      <td>5</td>\n",
       "      <td>2</td>\n",
       "      <td>5477</td>\n",
       "      <td>...</td>\n",
       "      <td>F</td>\n",
       "      <td>F</td>\n",
       "      <td>F</td>\n",
       "      <td>F</td>\n",
       "      <td>26.0</td>\n",
       "      <td>F</td>\n",
       "      <td>F</td>\n",
       "      <td>F</td>\n",
       "      <td>F</td>\n",
       "      <td>F</td>\n",
       "    </tr>\n",
       "    <tr>\n",
       "      <th>2</th>\n",
       "      <td>35</td>\n",
       "      <td>36</td>\n",
       "      <td>0</td>\n",
       "      <td>NaN</td>\n",
       "      <td>NaN</td>\n",
       "      <td>0</td>\n",
       "      <td>35</td>\n",
       "      <td>31</td>\n",
       "      <td>0</td>\n",
       "      <td>5507</td>\n",
       "      <td>...</td>\n",
       "      <td>T</td>\n",
       "      <td>F</td>\n",
       "      <td>F</td>\n",
       "      <td>T</td>\n",
       "      <td>NaN</td>\n",
       "      <td>F</td>\n",
       "      <td>F</td>\n",
       "      <td>T</td>\n",
       "      <td>F</td>\n",
       "      <td>T</td>\n",
       "    </tr>\n",
       "    <tr>\n",
       "      <th>3</th>\n",
       "      <td>45</td>\n",
       "      <td>0</td>\n",
       "      <td>0</td>\n",
       "      <td>NaN</td>\n",
       "      <td>NaN</td>\n",
       "      <td>0</td>\n",
       "      <td>45</td>\n",
       "      <td>-3</td>\n",
       "      <td>0</td>\n",
       "      <td>8</td>\n",
       "      <td>...</td>\n",
       "      <td>F</td>\n",
       "      <td>F</td>\n",
       "      <td>F</td>\n",
       "      <td>F</td>\n",
       "      <td>NaN</td>\n",
       "      <td>F</td>\n",
       "      <td>T</td>\n",
       "      <td>F</td>\n",
       "      <td>F</td>\n",
       "      <td>F</td>\n",
       "    </tr>\n",
       "    <tr>\n",
       "      <th>4</th>\n",
       "      <td>13</td>\n",
       "      <td>48</td>\n",
       "      <td>0</td>\n",
       "      <td>NaN</td>\n",
       "      <td>NaN</td>\n",
       "      <td>0</td>\n",
       "      <td>13</td>\n",
       "      <td>39</td>\n",
       "      <td>0</td>\n",
       "      <td>158</td>\n",
       "      <td>...</td>\n",
       "      <td>T</td>\n",
       "      <td>F</td>\n",
       "      <td>F</td>\n",
       "      <td>F</td>\n",
       "      <td>NaN</td>\n",
       "      <td>F</td>\n",
       "      <td>F</td>\n",
       "      <td>T</td>\n",
       "      <td>F</td>\n",
       "      <td>F</td>\n",
       "    </tr>\n",
       "  </tbody>\n",
       "</table>\n",
       "<p>5 rows × 31 columns</p>\n",
       "</div>"
      ],
      "text/plain": [
       "   Age  Months_Customer  Number_Products  RFM_Score  \\\n",
       "0   40               24                3    9.82899   \n",
       "1   47               12                2   11.80799   \n",
       "2   35               36                0        NaN   \n",
       "3   45                0                0        NaN   \n",
       "4   13               48                0        NaN   \n",
       "\n",
       "   Average_Balance_Feed_Index  Number_Transactions  Personal_Ratio  \\\n",
       "0                       229.0                    2              40   \n",
       "1                         8.0                    1              47   \n",
       "2                         NaN                    0              35   \n",
       "3                         NaN                    0              45   \n",
       "4                         NaN                    0              13   \n",
       "\n",
       "   Months_Current_Account  Number_Loan_Accounts  Customer_ID  ...  Homeowner  \\\n",
       "0                      13                     0         5409  ...          F   \n",
       "1                       5                     2         5477  ...          F   \n",
       "2                      31                     0         5507  ...          T   \n",
       "3                      -3                     0            8  ...          F   \n",
       "4                      39                     0          158  ...          T   \n",
       "\n",
       "   Accepted_Personal_Loan  Accepted_Retention Accepted_Home_Equity_Loan  \\\n",
       "0                       F                   F                         F   \n",
       "1                       F                   F                         F   \n",
       "2                       F                   F                         T   \n",
       "3                       F                   F                         F   \n",
       "4                       F                   F                         F   \n",
       "\n",
       "  Annual_value  Interested_Personal_Loan  Interested_in_Retention  \\\n",
       "0          9.0                         F                        F   \n",
       "1         26.0                         F                        F   \n",
       "2          NaN                         F                        F   \n",
       "3          NaN                         F                        T   \n",
       "4          NaN                         F                        F   \n",
       "\n",
       "   Interested_in_Home_Equity_Loan  Interested_in_Credit_Card  \\\n",
       "0                               F                          F   \n",
       "1                               F                          F   \n",
       "2                               T                          F   \n",
       "3                               F                          F   \n",
       "4                               T                          F   \n",
       "\n",
       "   Accepted_Credit_Card  \n",
       "0                     F  \n",
       "1                     F  \n",
       "2                     T  \n",
       "3                     F  \n",
       "4                     F  \n",
       "\n",
       "[5 rows x 31 columns]"
      ]
     },
     "execution_count": 8,
     "metadata": {},
     "output_type": "execute_result"
    }
   ],
   "source": [
    "df.head(5)"
   ]
  },
  {
   "cell_type": "code",
   "execution_count": 16,
   "metadata": {},
   "outputs": [],
   "source": [
    "#preparation des donnees \n",
    "y = df.iloc[:,-1]\n",
    "#X (les autres) sont les variables qui précèdent la dernière\n",
    "X= df.iloc[:,:-1]"
   ]
  },
  {
   "cell_type": "code",
   "execution_count": 17,
   "metadata": {},
   "outputs": [
    {
     "data": {
      "text/plain": [
       "<matplotlib.axes._subplots.AxesSubplot at 0xc02431d910>"
      ]
     },
     "execution_count": 17,
     "metadata": {},
     "output_type": "execute_result"
    },
    {
     "data": {
      "image/png": "[encoded data removed]",
      "text/plain": [
       "<Figure size 432x288 with 1 Axes>"
      ]
     },
     "metadata": {
      "needs_background": "light"
     },
     "output_type": "display_data"
    }
   ],
   "source": [
    "sb.countplot(x=y,data=X)"
   ]
  },
  {
   "cell_type": "code",
   "execution_count": 14,
   "metadata": {},
   "outputs": [
    {
     "name": "stdout",
     "output_type": "stream",
     "text": [
      "(2462, 30)\n",
      "(1082, 30)\n"
     ]
    }
   ],
   "source": [
    "# Division de la bd\n",
    "x_train,x_test,y_train,y_test=train_test_split(X,y,test_size=0.3,random_state=0)\n",
    "# Sur-échantillonnage\n",
    "rOs = RandomOverSampler()\n",
    "X_ro, y_ro = rOs.fit_resample(x_train, y_train)\n",
    "x_rtest, y_rtest = rOs.fit_resample(x_test, y_test)\n",
    "print(X_ro.shape)\n",
    "print(x_rtest.shape)"
   ]
  },
  {
   "cell_type": "code",
   "execution_count": 15,
   "metadata": {},
   "outputs": [
    {
     "data": {
      "text/plain": [
       "<matplotlib.axes._subplots.AxesSubplot at 0xc01f758520>"
      ]
     },
     "execution_count": 15,
     "metadata": {},
     "output_type": "execute_result"
    },
    {
     "data": {
      "image/png": "[encoded data removed]",
      "text/plain": [
       "<Figure size 432x288 with 1 Axes>"
      ]
     },
     "metadata": {
      "needs_background": "light"
     },
     "output_type": "display_data"
    }
   ],
   "source": [
    "sb.countplot(x=y_ro,data=X_ro)"
   ]
  },
  {
   "cell_type": "code",
   "execution_count": 42,
   "metadata": {},
   "outputs": [
    {
     "data": {
      "text/plain": [
       "Text(0.5, 1.0, 'Scaled data')"
      ]
     },
     "execution_count": 42,
     "metadata": {},
     "output_type": "execute_result"
    },
    {
     "data": {
      "image/png": "[encoded data removed]",
      "text/plain": [
       "<Figure size 1080x216 with 2 Axes>"
      ]
     },
     "metadata": {
      "needs_background": "light"
     },
     "output_type": "display_data"
    }
   ],
   "source": [
    "original_data = pd.DataFrame(df.RFM_Score)\n",
    "\n",
    "# scale the goals from 0 to 1\n",
    "scaled_data = minmax_scaling(original_data, columns=['RFM_Score'])\n",
    "\n",
    "# plot the original & scaled data together to compare\n",
    "fig, ax=plt.subplots(1,2,figsize=(15,3))\n",
    "sb.distplot(df.RFM_Score, ax=ax[0])\n",
    "ax[0].set_title(\"Original Data\")\n",
    "sb.distplot(scaled_data, ax=ax[1])\n",
    "ax[1].set_title(\"Scaled data\")"
   ]
  },
  {
   "cell_type": "code",
   "execution_count": 43,
   "metadata": {},
   "outputs": [
    {
     "name": "stdout",
     "output_type": "stream",
     "text": [
      "Original data\n",
      "Preview:\n",
      "    RFM_Score\n",
      "0    9.82899\n",
      "1   11.80799\n",
      "2        NaN\n",
      "3        NaN\n",
      "4        NaN\n",
      "Minimum value: 7.279 \n",
      "Maximum value: 35.761555\n",
      "______________________________\n",
      "\n",
      "Scaled data\n",
      "Preview:\n",
      "    RFM_Score\n",
      "0   0.089528\n",
      "1   0.159009\n",
      "2        NaN\n",
      "3        NaN\n",
      "4        NaN\n",
      "Minimum value: 0.0 \n",
      "Maximum value: 1.0\n"
     ]
    }
   ],
   "source": [
    "print('Original data\\nPreview:\\n', original_data.head())\n",
    "print('Minimum value:', float(original_data.min()),\n",
    "      '\\nMaximum value:', float(original_data.max()))\n",
    "print('_'*30)\n",
    "\n",
    "print('\\nScaled data\\nPreview:\\n', scaled_data.head())\n",
    "print('Minimum value:', float(scaled_data.min()),\n",
    "      '\\nMaximum value:', float(scaled_data.max()))"
   ]
  },
  {
   "cell_type": "code",
   "execution_count": 44,
   "metadata": {},
   "outputs": [
    {
     "data": {
      "text/plain": [
       "Text(0.5, 1.0, 'Normalized data')"
      ]
     },
     "execution_count": 44,
     "metadata": {},
     "output_type": "execute_result"
    },
    {
     "data": {
      "image/png": "[encoded data removed]",
      "text/plain": [
       "<Figure size 1080x216 with 2 Axes>"
      ]
     },
     "metadata": {
      "needs_background": "light"
     },
     "output_type": "display_data"
    }
   ],
   "source": [
    "# get the index of all positive pledges (Box-Cox only takes positive values)\n",
    "index_of_positive_pledges = df.RFM_Score > 0\n",
    "\n",
    "# get only positive pledges (using their indexes)\n",
    "positive_pledges = df.RFM_Score.loc[index_of_positive_pledges]\n",
    "\n",
    "# normalize the pledges (w/ Box-Cox)\n",
    "normalized_pledges = pd.Series(stats.boxcox(positive_pledges)[0], \n",
    "                               name='RFM_Score', index=positive_pledges.index)\n",
    "\n",
    "# plot both together to compare\n",
    "fig, ax=plt.subplots(1,2,figsize=(15,3))\n",
    "sb.distplot(positive_pledges, ax=ax[0])\n",
    "ax[0].set_title(\"Original Data\")\n",
    "sb.distplot(normalized_pledges, ax=ax[1])\n",
    "ax[1].set_title(\"Normalized data\")"
   ]
  },
  {
   "cell_type": "code",
   "execution_count": 45,
   "metadata": {},
   "outputs": [
    {
     "name": "stdout",
     "output_type": "stream",
     "text": [
      "Original data\n",
      "Preview:\n",
      " 0     9.82899\n",
      "1    11.80799\n",
      "5    11.81900\n",
      "8     7.87900\n",
      "9     9.91999\n",
      "Name: RFM_Score, dtype: float64\n",
      "Minimum value: 7.279 \n",
      "Maximum value: 35.761555\n",
      "______________________________\n",
      "\n",
      "Normalized data\n",
      "Preview:\n",
      " 0    0.541274\n",
      "1    0.543718\n",
      "5    0.543729\n",
      "8    0.537008\n",
      "9    0.541417\n",
      "Name: RFM_Score, dtype: float64\n",
      "Minimum value: 0.5350125221000186 \n",
      "Maximum value: 0.5490683109891858\n"
     ]
    }
   ],
   "source": [
    "print('Original data\\nPreview:\\n', positive_pledges.head())\n",
    "print('Minimum value:', float(positive_pledges.min()),\n",
    "      '\\nMaximum value:', float(positive_pledges.max()))\n",
    "print('_'*30)\n",
    "\n",
    "print('\\nNormalized data\\nPreview:\\n', normalized_pledges.head())\n",
    "print('Minimum value:', float(normalized_pledges.min()),\n",
    "      '\\nMaximum value:', float(normalized_pledges.max()))"
   ]
  },
  {
   "cell_type": "code",
   "execution_count": null,
   "metadata": {},
   "outputs": [],
   "source": []
  }
 ],
 "metadata": {
  "kernelspec": {
   "display_name": "Python 3",
   "language": "python",
   "name": "python3"
  },
  "language_info": {
   "codemirror_mode": {
    "name": "ipython",
    "version": 3
   },
   "file_extension": ".py",
   "mimetype": "text/x-python",
   "name": "python",
   "nbconvert_exporter": "python",
   "pygments_lexer": "ipython3",
   "version": "3.8.5"
  }
 },
 "nbformat": 4,
 "nbformat_minor": 4
}
